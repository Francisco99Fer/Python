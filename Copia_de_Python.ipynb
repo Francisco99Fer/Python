{
  "nbformat": 4,
  "nbformat_minor": 0,
  "metadata": {
    "colab": {
      "provenance": [],
      "collapsed_sections": [],
      "authorship_tag": "ABX9TyM6eKI1yR7l1AmmHLcGvThF",
      "include_colab_link": true
    },
    "kernelspec": {
      "name": "python3",
      "display_name": "Python 3"
    },
    "language_info": {
      "name": "python"
    }
  },
  "cells": [
    {
      "cell_type": "markdown",
      "metadata": {
        "id": "view-in-github",
        "colab_type": "text"
      },
      "source": [
        "<a href=\"https://colab.research.google.com/github/Francisco99Fer/Python/blob/main/Copia_de_Python.ipynb\" target=\"_parent\"><img src=\"https://colab.research.google.com/assets/colab-badge.svg\" alt=\"Open In Colab\"/></a>"
      ]
    },
    {
      "cell_type": "markdown",
      "source": [
        "Comenzamos el curso con diferentes tipos de variables"
      ],
      "metadata": {
        "id": "UJIDmRMl5E_q"
      }
    },
    {
      "cell_type": "markdown",
      "source": [
        "**Numbers**\n",
        "Integer -> 2\n",
        "Float -> 2.3636\n",
        "Complex number -> 5 + 8J"
      ],
      "metadata": {
        "id": "NKaC5crW806N"
      }
    },
    {
      "cell_type": "code",
      "source": [
        "entero = 123\n",
        "flotante = 1.236\n",
        "numeroComplejo = complex(10,20)\n",
        "\n",
        "print(entero) # Muestra el valor de la variable entero\n",
        "print(flotante) # Muestra el valor de la variable flotante\n",
        "print(numeroComplejo) # Muestra el valor de la variable numeroComplejo"
      ],
      "metadata": {
        "colab": {
          "base_uri": "https://localhost:8080/"
        },
        "id": "wyzVJ2Vk8z4J",
        "outputId": "8bc04ad2-a96c-402b-d978-346bcedc84ea"
      },
      "execution_count": null,
      "outputs": [
        {
          "output_type": "stream",
          "name": "stdout",
          "text": [
            "123\n",
            "1.236\n",
            "(10+20j)\n"
          ]
        }
      ]
    },
    {
      "cell_type": "markdown",
      "source": [
        "**Booleans**\n",
        "True and False"
      ],
      "metadata": {
        "id": "t3U95wxY9bfy"
      }
    },
    {
      "cell_type": "code",
      "source": [
        "falso = False\n",
        "verdadero = True\n",
        "print(falso) # Muestra el valor de la variable falso\n",
        "print(verdadero) # Muestra el valor de la variable verdadero"
      ],
      "metadata": {
        "colab": {
          "base_uri": "https://localhost:8080/"
        },
        "id": "aYux6DNL9nvs",
        "outputId": "8b7b5ba1-ed8e-4c56-e2c5-4f3afb9cd564"
      },
      "execution_count": null,
      "outputs": [
        {
          "output_type": "stream",
          "name": "stdout",
          "text": [
            "False\n",
            "True\n"
          ]
        }
      ]
    },
    {
      "cell_type": "markdown",
      "source": [
        "**String**\n",
        "Declarar variable\n",
        "Mostrar longitud\n",
        "Acceso a caracteres"
      ],
      "metadata": {
        "id": "jxXWs-pl9yTD"
      }
    },
    {
      "cell_type": "code",
      "source": [
        "tolkien = 'El señor de los ajillos'\n",
        "print(tolkien) # Muestra el valor de la variable tolkien\n",
        "first = tolkien[0] \n",
        "print(first) # Muestra el valor de la variable first que es el primer caracter del string Tolkien\n",
        "last = tolkien[len(tolkien)-1] \n",
        "print(last) # Muestra el valor de la variable last que es el ultimo caracter del string Tolkien\n",
        "hola = \"hola\"\n",
        "id(hola) # Muestra el id que indentifica el objeto id en el momento de ejecución"
      ],
      "metadata": {
        "colab": {
          "base_uri": "https://localhost:8080/"
        },
        "id": "b31OHe-Y_D0n",
        "outputId": "cb0e4f51-8112-4b73-f991-d6c131b84d9b"
      },
      "execution_count": null,
      "outputs": [
        {
          "output_type": "execute_result",
          "data": {
            "text/plain": [
              "139780938632432"
            ]
          },
          "metadata": {},
          "execution_count": 28
        }
      ]
    },
    {
      "cell_type": "markdown",
      "source": [
        "**The none Keyword**\n",
        "Variables que se les asugna el valor \"None\" significa que no tiene un valor asociado"
      ],
      "metadata": {
        "id": "LRyq9OvpBp4w"
      }
    },
    {
      "cell_type": "code",
      "source": [
        "val = None\n",
        "val\n",
        "type(val) # Muestra el valor de la variable val, el cual es None, que significa que no tiene un valor asociado"
      ],
      "metadata": {
        "colab": {
          "base_uri": "https://localhost:8080/"
        },
        "id": "7CNRWOfwBul7",
        "outputId": "e0774f71-253c-4d6b-beee-61ece0561b13"
      },
      "execution_count": null,
      "outputs": [
        {
          "output_type": "execute_result",
          "data": {
            "text/plain": [
              "NoneType"
            ]
          },
          "metadata": {},
          "execution_count": 32
        }
      ]
    },
    {
      "cell_type": "markdown",
      "source": [
        "**String Slicing**"
      ],
      "metadata": {
        "id": "R6O1n9ezCKox"
      }
    },
    {
      "cell_type": "code",
      "source": [
        "frase = \"Frase de prueba para Carmelo\"\n",
        "frase[0:4] # Muestra el valor de frase desde el caracter en la posición 0 hasta la 4, esta ultima no incluida\n",
        "frase[6:len(frase)] # Muestra el valor de la variable frase desde el caracter 6 hasta la longitud de la variable\n",
        "frase[2:13:4] # Muestra el valor de la variable frase desde el caracter 2 hasta el 13, saltando de 4 en 4 carácteres\n",
        "frase[:] # Muestra el valor completo de la variable frase"
      ],
      "metadata": {
        "colab": {
          "base_uri": "https://localhost:8080/",
          "height": 36
        },
        "id": "twZKW9dVCSpg",
        "outputId": "a3c408eb-bb88-4601-f5f0-a7aa4e5dc7b1"
      },
      "execution_count": null,
      "outputs": [
        {
          "output_type": "execute_result",
          "data": {
            "text/plain": [
              "'Frase de prueba para Carmelo'"
            ],
            "application/vnd.google.colaboratory.intrinsic+json": {
              "type": "string"
            }
          },
          "metadata": {},
          "execution_count": 38
        }
      ]
    },
    {
      "cell_type": "markdown",
      "source": [
        "**String Formating**"
      ],
      "metadata": {
        "id": "scwlKqikEa9Q"
      }
    },
    {
      "cell_type": "code",
      "source": [
        "frase = \"Me gusta un poco Linux\"\n",
        "print(frase)\n",
        "frase2 = \"No me gusta Mac\" % frase # Concatenamos frase con frase2\n",
        "print(frase2)"
      ],
      "metadata": {
        "id": "H01iAcZxEeMp"
      },
      "execution_count": null,
      "outputs": []
    },
    {
      "cell_type": "markdown",
      "source": [
        "**Operators**"
      ],
      "metadata": {
        "id": "_HTWjB0tFmIC"
      }
    },
    {
      "cell_type": "markdown",
      "source": [
        "**Arithmetic Operators**"
      ],
      "metadata": {
        "id": "05dPljzTF1HA"
      }
    },
    {
      "cell_type": "code",
      "source": [
        "# Suma de flotantes\n",
        "# Declaramos dos variables de tipo flotante\n",
        "flotante1 = 1.25\n",
        "flotante2 = 5.66\n",
        "suma = flotante1 + flotante2 # Sumamos estas variables y guardamos el resultado en una variable nueva\n",
        "print(suma)\n",
        "\n",
        "# Suma de flotantes + enteros\n",
        "# Declaramos dos variables, una flotante y otra entero\n",
        "entero = 343\n",
        "flotante3 = 234.23\n",
        "suma2 = entero + flotante3 # Sumamos estas variables y guardamos el resultado en una cariable nueva\n",
        "print(suma2)\n",
        "\n",
        "# Resta\n",
        "# Declaramos dos variables, una flotante y otra entero\n",
        "flotante4 = 753.3692\n",
        "entero2 = 785\n",
        "resta = flotante4 - entero2 # Restamos estas variables y guardamos el resultado en una cariable nueva\n",
        "print(resta)\n",
        "\n",
        "# Multiplicación\n",
        "# Con las variables declaradas anteriormente realizamos multilpicación\n",
        "multiplicacion = flotante4 * entero\n",
        "print(multiplicacion)\n",
        "\n",
        "# División\n",
        "# Con las variables declaradas anteriormente realizamos división\n",
        "division = flotante4 / entero\n",
        "print(division)\n",
        "\n",
        "# División Truncada\n",
        "# Con las variables declaradas anteriormente realizamos división truncada\n",
        "divisionTruncada = flotante4 // entero\n",
        "print(divisionTruncada)\n",
        "\n",
        "# Módulo\n",
        "# Con las variables declaradas anteriormente realizamos multilpicación\n",
        "modulo = flotante4 % entero\n",
        "print(modulo)\n",
        "\n",
        "# Precedente\n",
        "# Con las variables declaradas anteriormente realizamos precedentes de signos\n",
        "precedente = flotante3 + flotante4 * entero\n",
        "print(precedente)\n",
        "\n",
        "# Parentesis\n",
        "# Con las variables declaradas anteriormente realizamos parentesis\n",
        "print((123 - 98) * 4)"
      ],
      "metadata": {
        "colab": {
          "base_uri": "https://localhost:8080/"
        },
        "id": "2fNgr5ROF_IK",
        "outputId": "cd277f9c-d784-4e2c-9dbf-7a659c7fdf15"
      },
      "execution_count": null,
      "outputs": [
        {
          "output_type": "stream",
          "name": "stdout",
          "text": [
            "100\n"
          ]
        }
      ]
    },
    {
      "cell_type": "markdown",
      "source": [
        "**Comparasion Operators**"
      ],
      "metadata": {
        "id": "Bk9Nxji_VFFR"
      }
    },
    {
      "cell_type": "code",
      "source": [
        "# Comparación de operadores\n",
        "num1 = 7\n",
        "num2 = 45\n",
        "num3 = 78\n",
        "num4 = 45\n",
        "list1 = [5,4,7]\n",
        "list2 = [9,5,7]\n",
        "\n",
        "print(num1 < num2) # Muestra True\n",
        "print(num2 < num1) # Muestra False\n",
        "\n",
        "print(num1 == num2) # Muestra False\n",
        "print(num4 == num2) # Muestra True\n",
        "print(num4 != num2) # Muestra False\n",
        "print(num1 != num2) # Muestra True"
      ],
      "metadata": {
        "colab": {
          "base_uri": "https://localhost:8080/"
        },
        "id": "Shc0Us39VJgh",
        "outputId": "e756d09f-580e-49aa-d350-e284f00cfad6"
      },
      "execution_count": null,
      "outputs": [
        {
          "output_type": "stream",
          "name": "stdout",
          "text": [
            "True\n",
            "False\n",
            "False\n",
            "True\n",
            "False\n",
            "True\n"
          ]
        }
      ]
    },
    {
      "cell_type": "markdown",
      "source": [
        "**Assignment Operators**"
      ],
      "metadata": {
        "id": "u7qYZc-QYnGm"
      }
    },
    {
      "cell_type": "code",
      "source": [
        "# Operadores de asignación\n",
        "anno = 2019\n",
        "print(anno)\n",
        "print(anno + 1)\n",
        "\n",
        "primero = 78\n",
        "segundo = primero\n",
        "print(primero, segundo)\n",
        "\n",
        "# Otros operadores\n",
        "num = 5\n",
        "print(num)\n",
        "\n",
        "num += 5 # Suma con operadores de asignación\n",
        "print(num)\n",
        "\n",
        "num -= 5 # Resta con operadores de asignación\n",
        "print(num)\n",
        "\n",
        "num *= 2 # Multiplicación con operadores de asignación\n",
        "print(num)\n",
        "\n",
        "num /= 2 # División con operadores de asignación\n",
        "print(num)\n",
        "\n",
        "num **= 2 # Potencias con operadores de asignación\n",
        "print(num)"
      ],
      "metadata": {
        "id": "xraEcAzyYoqK"
      },
      "execution_count": null,
      "outputs": []
    },
    {
      "cell_type": "markdown",
      "source": [
        "**Logical Operators**"
      ],
      "metadata": {
        "id": "8lmn_QHmcdou"
      }
    },
    {
      "cell_type": "code",
      "source": [
        "# Expresiones con OR, AND, NOT\n",
        "boolean = True or False\n",
        "print(boolean) # Mostrará True\n",
        "\n",
        "boolean = True and False\n",
        "print(boolean) # Mostrará False\n",
        "\n",
        "boolean = False\n",
        "print(not boolean) # Mostrará True\n",
        "\n",
        "# Valores por BIT\n",
        "print(100 * True)\n",
        "print(100 * False)"
      ],
      "metadata": {
        "id": "JivE5rh6ca-y"
      },
      "execution_count": null,
      "outputs": []
    },
    {
      "cell_type": "markdown",
      "source": [
        "**Bitwise Operators**"
      ],
      "metadata": {
        "id": "PyN2ds9mdxpj"
      }
    },
    {
      "cell_type": "code",
      "source": [
        "num1 = 23\n",
        "num2 = 34\n",
        "\n",
        "print(num1 & num2) # Compara los bits\n",
        "print(num1 | num2) # Compara los bits\n",
        "print(num1 ^ num2) # Suma los bits\n",
        "print(~num1)\n",
        "print(num1 << 3)\n",
        "print(num2 >> 3)"
      ],
      "metadata": {
        "colab": {
          "base_uri": "https://localhost:8080/"
        },
        "id": "0I6qfC65eO3t",
        "outputId": "6016267d-3394-4042-96a4-3e411b854b6e"
      },
      "execution_count": null,
      "outputs": [
        {
          "output_type": "stream",
          "name": "stdout",
          "text": [
            "2\n",
            "55\n",
            "53\n",
            "-24\n",
            "184\n",
            "4\n"
          ]
        }
      ]
    },
    {
      "cell_type": "markdown",
      "source": [
        "**String Operations**"
      ],
      "metadata": {
        "id": "Xpvdjqvrgn-3"
      }
    },
    {
      "cell_type": "code",
      "source": [
        "# Operaciones con String\n",
        "print('a' < 'b')  # Compara si el caracte 'a' es mayor que 'b'\n",
        "\n",
        "hola = \"Pepe\"\n",
        "hola_copia = \"Pepe\"\n",
        "\n",
        "print(hola == hola_copia) # Compara las cadenas de texto\n",
        "\n",
        "hola_copia = \"pepito\"\n",
        "\n",
        "print(hola == hola_copia) # Compara las cadenas de texto\n",
        "\n",
        "print(hola_copia <= hola) # Compara la longitud de las cadenas de texto\n",
        "\n",
        "print(hola_copia >= hola) # Compara la longitud de las cadenas de texto\n",
        "\n",
        "# Concatenación\n",
        "nombre = \"Francisco\"\n",
        "apellido = \"Fernández\"\n",
        "\n",
        "nombre_completo = nombre + apellido # Concatena el valor de dos variables\n",
        "print(nombre_completo)\n",
        "\n",
        "print(\"hola\" * 3) # Multiplica la variable\n",
        "\n",
        "# Search\n",
        "string = \"En un lugar de la mancha del cual no puedo acordarme\"\n",
        "print('lugar' in string) # Muestra si el string aparece en la cadena de texto\n",
        "print('pepe' in string) # Muestra si el string aparece en la cadena de texto"
      ],
      "metadata": {
        "colab": {
          "base_uri": "https://localhost:8080/"
        },
        "id": "I8-hKy0egpxv",
        "outputId": "d1320976-e5e3-46cb-c8ad-0df4cba390f3"
      },
      "execution_count": null,
      "outputs": [
        {
          "output_type": "stream",
          "name": "stdout",
          "text": [
            "True\n",
            "True\n",
            "False\n",
            "False\n",
            "True\n",
            "FranciscoFernández\n",
            "holaholahola\n",
            "True\n",
            "False\n"
          ]
        }
      ]
    },
    {
      "cell_type": "markdown",
      "source": [
        "**Grouping Values**"
      ],
      "metadata": {
        "id": "U0bJ9GJIQ909"
      }
    },
    {
      "cell_type": "code",
      "source": [
        "# Hacer una lista\n",
        "lista = [2, 7.2, \"Pepe\", False] # Podemos guardar cualquier elemento en la lista\n",
        "print(lista)\n",
        "print(lista[2]) # Mostramos el elemento en la posición 2, teniendo en cuenta que los array empiezan en la posición 0\n"
      ],
      "metadata": {
        "colab": {
          "base_uri": "https://localhost:8080/"
        },
        "id": "O3m2F8_7RAas",
        "outputId": "85380e87-dcc3-45ad-eb04-b8aa5f59eae8"
      },
      "execution_count": null,
      "outputs": [
        {
          "output_type": "stream",
          "name": "stdout",
          "text": [
            "[2, 7.2, 'Pepe', False]\n",
            "Pepe\n",
            "5.25\n"
          ]
        }
      ]
    },
    {
      "cell_type": "markdown",
      "source": [
        "**Gravitational Force**"
      ],
      "metadata": {
        "id": "WHomqgWnSW1-"
      }
    },
    {
      "cell_type": "code",
      "source": [
        "G = 6.67 * (10 ** -11)\n",
        "M_earth = 6.0 * (10 ** 24)\n",
        "m_moon = 7.34 * (10 ** 22)\n",
        "r = 3.84 * (10 ** 8)\n",
        "\n",
        "gravitational_Force = (G * M_earth * m_moon) / (r ** 2)\n",
        "print(gravitational_Force)"
      ],
      "metadata": {
        "colab": {
          "base_uri": "https://localhost:8080/"
        },
        "id": "brN3atzCSbjU",
        "outputId": "a430113d-38e3-4c4a-ab2a-c8866c8ebbd1"
      },
      "execution_count": null,
      "outputs": [
        {
          "output_type": "stream",
          "name": "stdout",
          "text": [
            "1.9920979817708333e+20\n"
          ]
        }
      ]
    },
    {
      "cell_type": "markdown",
      "source": [
        "**Conditional Statements**"
      ],
      "metadata": {
        "id": "7rLNDJQSTwmW"
      }
    },
    {
      "cell_type": "markdown",
      "source": [
        "**La condición If**"
      ],
      "metadata": {
        "id": "8BACIc_nT5y-"
      }
    },
    {
      "cell_type": "code",
      "source": [
        "num = 8\n",
        "\n",
        "if (num == 8): # Si la condición es true continua dentro, si es false no entra\n",
        "  print('El número es 8')\n",
        "if (num > 12):\n",
        "  print('El número es mayor de 12')\n",
        "\n",
        "# Condiciones y operadores lógicos\n",
        "num = 12\n",
        "\n",
        "if num % 2 == 0 and num % 3 == 0 and num % 4 == 0:\n",
        "    # Entra en esta codición si el número es multiplo de 2, 3, 4\n",
        "    print(\"El número es multilpo de 2, 3, y 4\")\n",
        "\n",
        "if (num % 5 == 0 or num % 6 == 0):\n",
        "    # Entra en esta condición si el número es multiplo de 5 y/o 6\n",
        "    print(\"El número es multilpo de 5 y/o 6\")\n",
        "\n",
        "# If anidados\n",
        "num = 63\n",
        "\n",
        "if num >= 0 and num <= 100:\n",
        "    if num >= 50 and num <= 75:\n",
        "        if num >= 60 and num <= 70:\n",
        "            print(\"El número esta entre el rango de mayor o igual que 60 y menor o igual que 70\")\n",
        "\n",
        "# Editar valores según la condición\n",
        "num = 8\n",
        "# Si se cumple la condición el valor de la variable cambia\n",
        "if num < 20:\n",
        "  num = 13\n",
        "print(num)"
      ],
      "metadata": {
        "colab": {
          "base_uri": "https://localhost:8080/"
        },
        "id": "K1W4unRMT9qk",
        "outputId": "5871f3fd-4376-4384-9391-da7088b925c5"
      },
      "execution_count": null,
      "outputs": [
        {
          "output_type": "stream",
          "name": "stdout",
          "text": [
            "El número es 8\n",
            "El número es multilpo de 2, 3, y 4\n",
            "El número es multilpo de 5 y/o 6\n",
            "El número esta entre el rango de mayor o igual que 60 y menor o igual que 70\n",
            "13\n"
          ]
        }
      ]
    },
    {
      "cell_type": "markdown",
      "source": [
        "**Estructura IF-ELSE**"
      ],
      "metadata": {
        "id": "sSJU6EcqW7RH"
      }
    },
    {
      "cell_type": "code",
      "source": [
        "num = 13\n",
        "# Comprueba la condición y si no es True, salta automáticamente al else\n",
        "if num < 14:\n",
        "  print('El número es menor de 14')\n",
        "else:\n",
        "  print('El número es mayo de 14')"
      ],
      "metadata": {
        "id": "JqgsrUFKW_tf"
      },
      "execution_count": null,
      "outputs": []
    },
    {
      "cell_type": "markdown",
      "source": [
        "**Estructura IF-ELIF-ELSE**"
      ],
      "metadata": {
        "id": "FtVJVu2PXZrm"
      }
    },
    {
      "cell_type": "code",
      "source": [
        "color = 'Rojo'\n",
        "# Comprueba si la condición es true \n",
        "if color == 'Rojo':\n",
        "  print('El color es Rojo')\n",
        "elif color == 'Verde':\n",
        "  print('El color es Verde')\n",
        "else:\n",
        "  'No tiene ni color Verde, ni color Rojo'"
      ],
      "metadata": {
        "id": "Nzk5Ev0AXfWM"
      },
      "execution_count": null,
      "outputs": []
    },
    {
      "cell_type": "markdown",
      "source": [
        "**Discounted Price**"
      ],
      "metadata": {
        "id": "Cb763baAZsKL"
      }
    },
    {
      "cell_type": "code",
      "source": [
        "precio = 300\n",
        "\n",
        "if precio <= 300:\n",
        "  ''' (Número * Porcentaje) / 100'''\n",
        "  precio = (precio * 30) / 100\n",
        "elif precio >= 200 and precio < 300:\n",
        "  precio = (precio * 20) / 100\n",
        "elif precio >= 100 and precio < 200:\n",
        "  precio = (precio * 10) / 100\n",
        "elif precio >= 0 and precio < 100:\n",
        "  precio = (precio * 5) / 100\n",
        "print(precio)"
      ],
      "metadata": {
        "colab": {
          "base_uri": "https://localhost:8080/"
        },
        "id": "D-ArNe-LaBsf",
        "outputId": "c3187f85-826b-4ab7-d819-a3bf459b6bbd"
      },
      "execution_count": null,
      "outputs": [
        {
          "output_type": "stream",
          "name": "stdout",
          "text": [
            "90.0\n"
          ]
        }
      ]
    },
    {
      "cell_type": "markdown",
      "source": [
        "**Functions**"
      ],
      "metadata": {
        "id": "Wp_-zM5a8kOq"
      }
    },
    {
      "cell_type": "markdown",
      "source": [
        "**Creación de Funciones**"
      ],
      "metadata": {
        "id": "ArHJAEaC84Fq"
      }
    },
    {
      "cell_type": "code",
      "source": [
        "def escribe_funcion():\n",
        "  print(\"hola\")\n",
        "  print(\"pepe\")\n",
        "  print(\"como estamos\")\n",
        "\n",
        "escribe_funcion()\n",
        "\n",
        "# Escribimos una función con parámetros\n",
        "def minimo(primero, segundo):\n",
        "  if (primero < segundo):\n",
        "    print(primero, \"es más pequeño que\", segundo)\n",
        "  else:\n",
        "    print(segundo, \"es más pequeño que\", primero)\n",
        "\n",
        "primero = 10\n",
        "segundo = 11\n",
        "\n",
        "minimo(primero, segundo)\n",
        "\n",
        "# Función con parámetros que tiene RETURN\n",
        "def minimo2(primero, segundo):\n",
        "  if (primero < segundo):\n",
        "    return primero\n",
        "  else:\n",
        "    return segundo\n",
        "\n",
        "primero = 10\n",
        "segundo = 11\n",
        "\n",
        "num = minimo2(primero, segundo)\n",
        "print(num)\n",
        "\n",
        "# Alterar valor de variables\n",
        "num = 20\n",
        "\n",
        "\n",
        "def multilpica_10(n):\n",
        "    n *= 10\n",
        "    num = n  \n",
        "    print(\"Valor de num dentro de la función\", num)\n",
        "    return n\n",
        "\n",
        "\n",
        "multilpica_10(num)\n",
        "print(\"Valor de num fuera de la función:\", num)  \n",
        "\n",
        "# Alterar valor de listas\n",
        "lista_numeros = [10, 20, 30, 40]\n",
        "print(lista_numeros)\n",
        "\n",
        "\n",
        "def multilpicacion_10(lista):\n",
        "    lista[0] *= 10\n",
        "    lista[1] *= 10\n",
        "    lista[2] *= 10\n",
        "    lista[3] *= 10\n",
        "\n",
        "\n",
        "multilpicacion_10(lista_numeros)\n",
        "print(lista_numeros)\n",
        "\n",
        "# Funciones String, reemplazar\n",
        "primer_string = \"Hola me llamo pepe\"\n",
        "nuevo_string = primer_string.replace(\"pepe\", \"Antonio\")\n",
        "print(primer_string)\n",
        "print(nuevo_string)\n",
        "\n",
        "# Función cambiar a Mayúsculas y minúsculas\n",
        "print(\"Hola antuAn\".upper())\n",
        "print(\"HoLa PEpe\".lower())\n",
        "\n",
        "# Función para unir Strings\n",
        "lista = ['a', 'b', 'c']\n",
        "print('>>'.join(lista))\n",
        "print('<<'.join(lista))\n",
        "print(', '.join(lista))\n",
        "\n",
        "# Formateo de Strings\n",
        "string1 = \"Aprende python {version} con {cname}\".format(version = 3, cname = \"Educative\")\n",
        "string2 = \"Aprende python {0} con {1}\".format(3, \"Educative\")\n",
        "string3 = \"Aprende python {} con {}\".format(3, \"Educative\")\n",
        "\n",
        "print(string1)\n",
        "print(string2)\n",
        "print(string3)"
      ],
      "metadata": {
        "colab": {
          "base_uri": "https://localhost:8080/"
        },
        "id": "mWx6IImH822H",
        "outputId": "543092b7-d71f-4294-cc14-7cbb015dd4e7"
      },
      "execution_count": null,
      "outputs": [
        {
          "output_type": "stream",
          "name": "stdout",
          "text": [
            "hola\n",
            "pepe\n",
            "como estamos\n",
            "10 es más pequeño que 11\n",
            "10\n",
            "Valor de num dentro de la función 200\n",
            "Valor de num fuera de la función: 20\n",
            "[10, 20, 30, 40]\n",
            "[100, 200, 300, 400]\n",
            "Hola me llamo pepe\n",
            "Hola me llamo Antonio\n",
            "HOLA ANTUAN\n",
            "hola pepe\n",
            "a>>b>>c\n",
            "a<<b<<c\n",
            "a, b, c\n",
            "Aprende python 3 con Educative\n",
            "Aprende python 3 con Educative\n",
            "Aprende python 3 con Educative\n"
          ]
        }
      ]
    },
    {
      "cell_type": "markdown",
      "source": [
        "**Conversiones de tipos**"
      ],
      "metadata": {
        "id": "wFaVe_kXC86D"
      }
    },
    {
      "cell_type": "code",
      "source": [
        "# int()\n",
        "print(int(\"12\") * 10)\n",
        "print(int(20.5)) \n",
        "print(int(False))\n",
        "\n",
        "# ord()\n",
        "print(ord('a'))\n",
        "print(ord('0'))\n",
        "\n",
        "# float()\n",
        "print(float(24))\n",
        "print(float('24.5'))\n",
        "print(float(True))\n",
        "\n",
        "#str()\n",
        "print(str(12) + '.345')\n",
        "print(str(False))\n",
        "print(str(12.345) + ' is a string')\n",
        "\n",
        "# bool()\n",
        "print(bool(10))\n",
        "print(bool(0.0))\n",
        "print(bool(\"Hello\"))\n",
        "print(bool(\"\"))"
      ],
      "metadata": {
        "colab": {
          "base_uri": "https://localhost:8080/"
        },
        "id": "NNtyuJINC__r",
        "outputId": "863db8e9-6d33-4f47-adc6-6b27e3997765"
      },
      "execution_count": null,
      "outputs": [
        {
          "output_type": "stream",
          "name": "stdout",
          "text": [
            "120\n",
            "20\n",
            "0\n",
            "97\n",
            "48\n",
            "24.0\n",
            "24.5\n",
            "1.0\n",
            "12.345\n",
            "False\n",
            "12.345 is a string\n",
            "True\n",
            "False\n",
            "True\n",
            "False\n"
          ]
        }
      ]
    },
    {
      "cell_type": "markdown",
      "source": [
        "**Input para el usuario**"
      ],
      "metadata": {
        "id": "suP457aQErCB"
      }
    },
    {
      "cell_type": "code",
      "source": [
        "nombre = input('¿Cual es tu nombre?')\n",
        "print(\"hola\", nombre)"
      ],
      "metadata": {
        "colab": {
          "base_uri": "https://localhost:8080/"
        },
        "id": "J-1Q8CWzEuVr",
        "outputId": "edc9ee32-5fdd-4ddc-f0de-86115b6fdd4d"
      },
      "execution_count": null,
      "outputs": [
        {
          "output_type": "stream",
          "name": "stdout",
          "text": [
            "¿Cual es tu nombre?pepe\n",
            "hola pepe\n"
          ]
        }
      ]
    },
    {
      "cell_type": "markdown",
      "source": [
        "**Lambda**"
      ],
      "metadata": {
        "id": "IpLyjfQPE8-O"
      }
    },
    {
      "cell_type": "code",
      "source": [
        "# Creamos una lambda -> lambda parametro : expresion\n",
        "triple = lambda num : num * 3  \n",
        "\n",
        "print(triple(10))\n",
        "\n",
        "# Lambda con palabras, cogerá la primera letra de cada palabra\n",
        "concat_strings = lambda a, b, c: a[0] + b[0] + c[0]\n",
        "\n",
        "print(concat_strings(\"World\", \"Wide\", \"Web\"))\n"
      ],
      "metadata": {
        "colab": {
          "base_uri": "https://localhost:8080/"
        },
        "id": "l28lxwI_E_nT",
        "outputId": "548d7884-ac80-43d5-9e21-53daee39da11"
      },
      "execution_count": null,
      "outputs": [
        {
          "output_type": "stream",
          "name": "stdout",
          "text": [
            "30\n",
            "WWW\n"
          ]
        }
      ]
    },
    {
      "cell_type": "markdown",
      "source": [
        "**Funciones con argumentos**"
      ],
      "metadata": {
        "id": "VCBRhOfDGHc2"
      }
    },
    {
      "cell_type": "code",
      "source": [
        "# Función simple\n",
        "def sumar(n1, n2):\n",
        "    return n1 + n2\n",
        "\n",
        "\n",
        "def restar(n1, n2):\n",
        "    return n1 - n2\n",
        "\n",
        "\n",
        "def multiplicar(n1, n2):\n",
        "    return n1 * n2\n",
        "\n",
        "\n",
        "def dividor(n1, n2):\n",
        "    return n1 / n2\n",
        "\n",
        "\n",
        "def calculadora(operation, n1, n2):\n",
        "    return operation(n1, n2)\n",
        "\n",
        "\n",
        "result = calculadora(multiplicar, 10, 20)\n",
        "print(result)\n",
        "print(calculadora(sumar, 10, 20))\n"
      ],
      "metadata": {
        "colab": {
          "base_uri": "https://localhost:8080/"
        },
        "id": "GrF8WPYYGKiP",
        "outputId": "d5b4071f-2be2-4685-9543-79b9fc4d8665"
      },
      "execution_count": null,
      "outputs": [
        {
          "output_type": "stream",
          "name": "stdout",
          "text": [
            "200\n",
            "30\n"
          ]
        }
      ]
    },
    {
      "cell_type": "markdown",
      "source": [
        "**Recursión**"
      ],
      "metadata": {
        "id": "fjsED_XIvU2v"
      }
    },
    {
      "cell_type": "code",
      "source": [
        "# Hace una cuenta atrás y una cuenta delante\n",
        "def rec_count(number):\n",
        "    print(number)\n",
        "    \n",
        "    if number == 0:\n",
        "        return 0\n",
        "    rec_count(number - 1)  \n",
        "    print(number)\n",
        "\n",
        "\n",
        "rec_count(5)\n",
        "\n",
        "# Recursividad sobre fibonacci\n",
        "def fib(n):\n",
        "    if n <= 1:\n",
        "        return 0\n",
        "    elif n == 2:\n",
        "        return 1\n",
        "    else:\n",
        "        return fib(n - 1) + fib(n - 2)\n",
        "\n",
        "\n",
        "print(fib(6))\n"
      ],
      "metadata": {
        "colab": {
          "base_uri": "https://localhost:8080/"
        },
        "id": "70Y78eN-vZM4",
        "outputId": "592ca089-96fd-486e-9bab-3c9e338f0bcf"
      },
      "execution_count": null,
      "outputs": [
        {
          "output_type": "stream",
          "name": "stdout",
          "text": [
            "5\n",
            "4\n",
            "3\n",
            "2\n",
            "1\n",
            "0\n",
            "1\n",
            "2\n",
            "3\n",
            "4\n",
            "5\n"
          ]
        }
      ]
    },
    {
      "cell_type": "markdown",
      "source": [
        "**Repetición y Concatenación**"
      ],
      "metadata": {
        "id": "zcRWCg2Kwn_6"
      }
    },
    {
      "cell_type": "code",
      "source": [
        "def repeticion(x, y):\n",
        "    return str(x) * 10 + str(y) * 5\n",
        "\n",
        "\n",
        "print(repeticion(3, 4))\n"
      ],
      "metadata": {
        "id": "MUouUhvhwnmw"
      },
      "execution_count": null,
      "outputs": []
    },
    {
      "cell_type": "markdown",
      "source": [
        "**Factorial**"
      ],
      "metadata": {
        "id": "3BMHIeoMwzrc"
      }
    },
    {
      "cell_type": "code",
      "source": [
        "def factorial(n):\n",
        "    if n == 0 or n == 1:\n",
        "        return 1\n",
        "\n",
        "    if n < 0:\n",
        "        return -1\n",
        "\n",
        "    return n * factorial(n - 1)\n",
        "\n",
        "\n",
        "print(factorial(5))"
      ],
      "metadata": {
        "id": "VBgk6eFkwzbI"
      },
      "execution_count": null,
      "outputs": []
    },
    {
      "cell_type": "markdown",
      "source": [
        "**Loops**"
      ],
      "metadata": {
        "id": "6MU0LTSOxLWv"
      }
    },
    {
      "cell_type": "markdown",
      "source": [
        "**For**"
      ],
      "metadata": {
        "id": "BVFE-SmSxN0y"
      }
    },
    {
      "cell_type": "code",
      "source": [
        "# Bucle del 1 al 10\n",
        "for i in range(1, 11):  \n",
        "    if i % 2 == 0:\n",
        "        print(i, \" es par\")\n",
        "    else:\n",
        "        print(i, \" es impar\")\n",
        "\n",
        "# Bucle del 1 al 10 de 3 en 3\n",
        "for i in range(1, 11, 3):  \n",
        "    print(i)\n",
        "\n",
        "float_list = [2.5, 16.42, 10.77, 8.3, 34.21]\n",
        "print(float_list)\n",
        "\n",
        "# Bucle sobre la longitud de la lista y multiplica * 2 el valor de cada elemento de la lista\n",
        "float_list = [2.5, 16.42, 10.77, 8.3, 34.21]\n",
        "print(float_list)\n",
        "for i in range(0, len(float_list)):\n",
        "    float_list[i] = float_list[i] * 2\n",
        "\n",
        "print(float_list)\n"
      ],
      "metadata": {
        "colab": {
          "base_uri": "https://localhost:8080/"
        },
        "id": "1Qm8M_odxPVn",
        "outputId": "017487c4-fe7b-4e79-f546-388d9cd0ae50"
      },
      "execution_count": null,
      "outputs": [
        {
          "output_type": "stream",
          "name": "stdout",
          "text": [
            "1  es impar\n",
            "2  es par\n",
            "3  es impar\n",
            "4  es par\n",
            "5  es impar\n",
            "6  es par\n",
            "7  es impar\n",
            "8  es par\n",
            "9  es impar\n",
            "10  es par\n",
            "1\n",
            "4\n",
            "7\n",
            "10\n"
          ]
        }
      ]
    },
    {
      "cell_type": "markdown",
      "source": [
        "**Bucles for anidados**"
      ],
      "metadata": {
        "id": "_vG1hphSy1c8"
      }
    },
    {
      "cell_type": "code",
      "source": [
        "n = 50\n",
        "num_list = [10, 25, 4, 23, 6, 18, 27, 47]\n",
        "\n",
        "for n1 in num_list:\n",
        "    for n2 in num_list: \n",
        "        if(n1 != n2):\n",
        "            if(n1 + n2 == n):\n",
        "                print(n1, n2)\n",
        "\n",
        "# Break\n",
        "n = 50\n",
        "num_list = [10, 25, 4, 23, 6, 18, 27, 47]\n",
        "found = False  # Esta variable se pone en true cuando se encuentra\n",
        "\n",
        "for n1 in num_list:\n",
        "    for n2 in num_list:\n",
        "        if(n1 != n2):\n",
        "            if(n1 + n2 == n):\n",
        "                found = True  # se transforma en True\n",
        "                break  # Rompe el bucle\n",
        "    if found:\n",
        "        print(n1, n2) \n",
        "        break  # Rompe el bucle\n"
      ],
      "metadata": {
        "colab": {
          "base_uri": "https://localhost:8080/"
        },
        "id": "6SbVv1KZy43a",
        "outputId": "f8c0f213-43a6-49a6-9686-3044614f8ad9"
      },
      "execution_count": null,
      "outputs": [
        {
          "output_type": "stream",
          "name": "stdout",
          "text": [
            "23 27\n",
            "27 23\n"
          ]
        }
      ]
    },
    {
      "cell_type": "markdown",
      "source": [
        "**Break and Continue**"
      ],
      "metadata": {
        "id": "R95nV-zLzkAN"
      }
    },
    {
      "cell_type": "code",
      "source": [
        "n = 10\n",
        "x = 4\n",
        "found = False\n",
        "\n",
        "for i in range(0, n):\n",
        "  if x == i+1:\n",
        "      found = True\n",
        "      print(\"Número no funciona\")\n",
        "      break\n",
        "else:\n",
        "    print(\"El número no funciona\")\n",
        "\n",
        "# Palabra continue\n",
        "for i in range(0, 10):\n",
        "    if i%2 == 0:\n",
        "        continue # Salta\n",
        "    print(i) # Pinta los números impares"
      ],
      "metadata": {
        "id": "IPRObHbszniL"
      },
      "execution_count": null,
      "outputs": []
    },
    {
      "cell_type": "markdown",
      "source": [
        "**Bucle while**"
      ],
      "metadata": {
        "id": "feVUmwcE17PQ"
      }
    },
    {
      "cell_type": "code",
      "source": [
        "n = 2 \n",
        "power = 0\n",
        "val = n\n",
        "while val < 1000:\n",
        "    power += 1\n",
        "    val *= n\n",
        "print(power)\n",
        "\n",
        "n = 249\n",
        "last = n % 10  # Guarda el resto del número entr 10\n",
        "\n",
        "first = n  # inicializa el bucle con el valor de n\n",
        "while first >= 10:\n",
        "    first //= 10\n",
        "\n",
        "result = first + last\n",
        "print(result)\n"
      ],
      "metadata": {
        "colab": {
          "base_uri": "https://localhost:8080/"
        },
        "id": "ZSK59mb62Q3P",
        "outputId": "102809f5-9865-424f-9f46-7914d4b76887"
      },
      "execution_count": null,
      "outputs": [
        {
          "output_type": "stream",
          "name": "stdout",
          "text": [
            "9\n",
            "11\n"
          ]
        }
      ]
    },
    {
      "cell_type": "markdown",
      "source": [
        "**Balance Brakets**"
      ],
      "metadata": {
        "id": "YGHqfmAa3nSA"
      }
    },
    {
      "cell_type": "code",
      "source": [
        "# Cuenta los corchetes\n",
        "def comprobacion(brackets):\n",
        "    check = 0\n",
        "    for bracket in brackets:\n",
        "        if bracket == '[':\n",
        "            check += 1\n",
        "\n",
        "        elif bracket == ']':\n",
        "            check -= 1\n",
        "\n",
        "        if check < 0:\n",
        "            break\n",
        "\n",
        "    return check == 0\n",
        "\n",
        "\n",
        "bracket_string = '[[[[]]'\n",
        "\n",
        "print(comprobacion(bracket_string))"
      ],
      "metadata": {
        "colab": {
          "base_uri": "https://localhost:8080/"
        },
        "id": "hLOb-yJS3rCP",
        "outputId": "e3335cea-c862-4148-c08f-bad0fdf64289"
      },
      "execution_count": null,
      "outputs": [
        {
          "output_type": "stream",
          "name": "stdout",
          "text": [
            "False\n"
          ]
        }
      ]
    },
    {
      "cell_type": "markdown",
      "source": [
        "**A sum of zero**"
      ],
      "metadata": {
        "id": "pQr_pqGI4jAZ"
      }
    },
    {
      "cell_type": "code",
      "source": [
        "def comprobar(num_list):\n",
        "    for primero in range(len(num_list)):\n",
        "        for segundo in range(primero + 1, len(num_list)):\n",
        "            if num_list[primero] + num_list[segundo] == 0:\n",
        "                return True\n",
        "    return False\n",
        "\n",
        "\n",
        "num_list = [10, -14, 26, 5, -3, 13, -5]\n",
        "print(comprobar(num_list))\n"
      ],
      "metadata": {
        "colab": {
          "base_uri": "https://localhost:8080/"
        },
        "id": "ewQBxY-N4saN",
        "outputId": "4caf28ce-3e21-412c-8d20-da3a2fff7304"
      },
      "execution_count": null,
      "outputs": [
        {
          "output_type": "stream",
          "name": "stdout",
          "text": [
            "True\n"
          ]
        }
      ]
    },
    {
      "cell_type": "markdown",
      "source": [
        "**Fibonacci Series**"
      ],
      "metadata": {
        "id": "c9uHhHBn5cy5"
      }
    },
    {
      "cell_type": "code",
      "source": [
        "def fib(n):\n",
        "    # El primer y el segundo valor son fijos\n",
        "    primero = 0\n",
        "    segundo = 1\n",
        "\n",
        "    if n < 1:\n",
        "        return -1\n",
        "\n",
        "    if n == 1:\n",
        "        return primero\n",
        "\n",
        "    if n == 2:\n",
        "        return segundo\n",
        "\n",
        "    count = 3\n",
        "    while count <= n:\n",
        "        fib_n = primero + segundo\n",
        "        primero = segundo\n",
        "        segundo = fib_n\n",
        "        count += 1\n",
        "    return fib_n\n",
        "\n",
        "\n",
        "n = 7\n",
        "print(fib(n))\n"
      ],
      "metadata": {
        "id": "4UWvkFku5fyp"
      },
      "execution_count": null,
      "outputs": []
    },
    {
      "cell_type": "markdown",
      "source": [
        "**Listas**"
      ],
      "metadata": {
        "id": "Z9iN88jb8jGo"
      }
    },
    {
      "cell_type": "code",
      "source": [
        "jon_snow = [\"Jon Snow\", \"Winterfell\", 30]\n",
        "print(jon_snow)\n",
        "\n",
        "# Escribe el valor de 0\n",
        "print(jon_snow[0])\n",
        "\n",
        "# Escribe la cantidad de elementos\n",
        "print(len(jon_snow))\n",
        "\n",
        "# Escribe el valor de el elementp 2 y luego suma 3 a su valor\n",
        "print(jon_snow[2])\n",
        "jon_snow[2] += 3\n",
        "print(jon_snow[2])\n",
        "\n",
        "# Range()\n",
        "num_seq = range(0, 10)  # Sequencia desde eñ 0 hasta el 9\n",
        "num_list = list(num_seq)\n",
        "print(num_list)\n",
        "\n",
        "num_seq = range(3, 20, 3)  # Sequencia desde el 3 hasta el 19 de 3 en 3\n",
        "print(list(num_seq))\n",
        "\n",
        "# Mergeo de listas\n",
        "part_A = [1, 2, 3, 4, 5]\n",
        "part_B = [6, 7, 8, 9, 10]\n",
        "merged_list = part_A + part_B\n",
        "print(merged_list)\n"
      ],
      "metadata": {
        "colab": {
          "base_uri": "https://localhost:8080/"
        },
        "id": "gd6n5ZpN7AQx",
        "outputId": "7b2db278-39af-409a-8662-4d447bed7bc0"
      },
      "execution_count": null,
      "outputs": [
        {
          "output_type": "stream",
          "name": "stdout",
          "text": [
            "['Jon Snow', 'Winterfell', 30]\n",
            "Jon Snow\n",
            "3\n",
            "30\n",
            "33\n"
          ]
        }
      ]
    },
    {
      "cell_type": "markdown",
      "source": [
        "**Common List Operations**"
      ],
      "metadata": {
        "id": "RAFiG85-9lWS"
      }
    },
    {
      "cell_type": "code",
      "source": [
        "# Crea una lista vacia y la rellena\n",
        "num_list = []  # lista vacia\n",
        "num_list.append(1)\n",
        "num_list.append(2)\n",
        "num_list.append(3)\n",
        "print(num_list)\n",
        "\n",
        "# Incluir en un lugar exacto\n",
        "num_list = [1, 2, 3, 5, 6]\n",
        "num_list.insert(3, 4)  # inserta el valor 4 en la posición 3\n",
        "print(num_list)\n",
        "\n",
        "# Eliminar elementos\n",
        "# Elimina el ultimo elemento\n",
        "houses = [\"Gryffindor\", \"Hufflepuff\", \"Ravenclaw\", \"Slytherin\"]\n",
        "last_house = houses.pop()\n",
        "print(last_house)\n",
        "print(houses)\n",
        "\n",
        "# Elimina un elemento en concreto\n",
        "houses = [\"Gryffindor\", \"Hufflepuff\", \"Ravenclaw\", \"Slytherin\"]\n",
        "print(houses)\n",
        "houses.remove(\"Ravenclaw\")\n",
        "print(houses)\n",
        "populations = [[\"Winterfell\", 10000], [\"King's Landing\", 50000],\n",
        "               [\"Iron Islands\", 5000]]\n",
        "print(populations)\n",
        "populations.remove([\"King's Landing\", 50000])\n",
        "print(populations)\n",
        "\n",
        "# Muestra el indice en el que se encuentra el valor buscado\n",
        "cities = [\"London\", \"Paris\", \"Los Angeles\", \"Beirut\"]\n",
        "print(cities.index(\"Los Angeles\"))\n",
        "\n",
        "# Ordena\n",
        "num_list = [20, 40, 10, 50.4, 30, 100, 5]\n",
        "num_list.sort()\n",
        "print(num_list)\n"
      ],
      "metadata": {
        "colab": {
          "base_uri": "https://localhost:8080/"
        },
        "id": "HuI-8Gl49pMW",
        "outputId": "3b0f5741-060d-49b1-dd67-d122f28795bc"
      },
      "execution_count": null,
      "outputs": [
        {
          "output_type": "stream",
          "name": "stdout",
          "text": [
            "[1, 2, 3]\n"
          ]
        }
      ]
    },
    {
      "cell_type": "markdown",
      "source": [
        "**Comparación de listas**"
      ],
      "metadata": {
        "id": "VcwNw7LF-pU7"
      }
    },
    {
      "cell_type": "code",
      "source": [
        "# Creamos una lista y guardamos en la segunda lista el valor de la primera * 2\n",
        "nums = [10, 20, 30, 40, 50]\n",
        "nums_double = []\n",
        "\n",
        "for n in nums:\n",
        "    nums_double.append(n * 2)\n",
        "\n",
        "print(nums)\n",
        "print(nums_double)\n",
        "\n",
        "# Creamos un bucle for en una sola linea\n",
        "nums = [10, 20, 30, 40, 50]\n",
        "\n",
        "nums_double = [n * 2 for n in nums]\n",
        "\n",
        "print(nums)\n",
        "print(nums_double)\n",
        "\n",
        "# Creamos dos bucles for en una sola linea\n",
        "list1 = [30, 50, 110, 40, 15, 75]\n",
        "list2 = [10, 60, 20, 50]\n",
        "\n",
        "sum_list = [(n1, n2) for n1 in list1 for n2 in list2 if n1 + n2 > 100]\n",
        "\n",
        "print(sum_list)\n"
      ],
      "metadata": {
        "colab": {
          "base_uri": "https://localhost:8080/"
        },
        "id": "KzJlitXW-t2F",
        "outputId": "02e189da-e795-4068-9711-f43cf190116b"
      },
      "execution_count": null,
      "outputs": [
        {
          "output_type": "stream",
          "name": "stdout",
          "text": [
            "[10, 20, 30, 40, 50]\n",
            "[20, 40, 60, 80, 100]\n",
            "[10, 20, 30, 40, 50]\n",
            "[20, 40, 60, 80, 100]\n"
          ]
        }
      ]
    },
    {
      "cell_type": "markdown",
      "source": [
        "**Tuplas**"
      ],
      "metadata": {
        "id": "-jUz8omV_U0Q"
      }
    },
    {
      "cell_type": "code",
      "source": [
        "car = (\"Ford\", \"Raptor\", 2019, \"Red\")\n",
        "print(car)\n",
        "\n",
        "# Longitud\n",
        "print(len(car))\n",
        "\n",
        "# Posción en específico\n",
        "print(car[1])\n",
        "\n",
        "# Desde esta poscición hacia adelante\n",
        "print(car[2:])\n",
        "\n",
        "# Mergear tuplas\n",
        "hero1 = (\"Batman\", \"Bruce Wayne\")\n",
        "hero2 = (\"Wonder Woman\", \"Diana Prince\")\n",
        "awesome_team = hero1 + hero2\n",
        "print(awesome_team)\n",
        "\n",
        "# Buscar\n",
        "cities = (\"London\", \"Paris\", \"Los Angeles\", \"Tokyo\")\n",
        "print(\"Moscow\" in cities)\n"
      ],
      "metadata": {
        "id": "SlyquFCn_eeo"
      },
      "execution_count": null,
      "outputs": []
    },
    {
      "cell_type": "markdown",
      "source": [
        "**Diccionarios**"
      ],
      "metadata": {
        "id": "GecrQPl_AgXO"
      }
    },
    {
      "cell_type": "code",
      "source": [
        "# Crear un diccionario\n",
        "empty_dict = {}  # Diccionarion vacio\n",
        "print(empty_dict)\n",
        "\n",
        "phone_book = {\"Batman\": 468426,\n",
        "              \"Cersei\": 237734,\n",
        "              \"Ghostbusters\": 44678}\n",
        "print(phone_book)\n",
        "\n",
        "# Diferentes formas de crear un diccionario\n",
        "# Crea un diccionario vacio con dict()\n",
        "empty_dict = dict()\n",
        "print(empty_dict)\n",
        "\n",
        "# Otra forma de crear un diccionario\n",
        "phone_book = dict(Batman=468426, Cersei=237734, Ghostbusters=44678)\n",
        "print(phone_book)\n",
        "\n",
        "# Otra forma de crear un diccionario\n",
        "phone_book = dict([('Batman', 468426),\n",
        "                   ('Cersei', 237734),\n",
        "                   ('Ghostbusters', 44678)])\n",
        "print(phone_book)\n",
        "\n",
        "# Acceder a valores de diccionarios\n",
        "phone_book = {\"Batman\": 468426,\n",
        "              \"Cersei\": 237734,\n",
        "              \"Ghostbusters\": 44678}\n",
        "print(phone_book[\"Cersei\"])\n",
        "print(phone_book.get(\"Ghostbusters\"))\n",
        "\n"
      ],
      "metadata": {
        "id": "yJkJpycgAqNL"
      },
      "execution_count": null,
      "outputs": []
    },
    {
      "cell_type": "markdown",
      "source": [
        "**Operaciones con diccionarios**"
      ],
      "metadata": {
        "id": "ysBxDPr5BwJn"
      }
    },
    {
      "cell_type": "code",
      "source": [
        "# Añadir / Actualizar elementos\n",
        "phone_book = {\"Batman\": 468426,\n",
        "              \"Cersei\": 237734,\n",
        "              \"Ghostbusters\": 44678}\n",
        "print(phone_book)\n",
        "\n",
        "phone_book[\"Godzilla\"] = 46394  # Nuevo elemento\n",
        "print(phone_book)\n",
        "\n",
        "phone_book[\"Godzilla\"] = 9000  # Actualizar elemento\n",
        "print(phone_book)\n",
        "\n",
        "# Eliminar elemento\n",
        "phone_book = {\"Batman\": 468426,\n",
        "              \"Cersei\": 237734,\n",
        "              \"Ghostbusters\": 44678}\n",
        "print(phone_book)\n",
        "\n",
        "del phone_book[\"Batman\"]\n",
        "print(phone_book)\n",
        "\n",
        "# Longitud del diccionario\n",
        "phone_book = {\"Batman\": 468426,\n",
        "              \"Cersei\": 237734,\n",
        "              \"Ghostbusters\": 44678}\n",
        "print(len(phone_book))\n",
        "\n",
        "# Comprobar si existe key en el diccionario\n",
        "phone_book = {\"Batman\": 468426,\n",
        "              \"Cersei\": 237734,\n",
        "              \"Ghostbusters\": 44678}\n",
        "print(\"Batman\" in phone_book)\n",
        "print(\"Godzilla\" in phone_book)"
      ],
      "metadata": {
        "id": "sEx4l8fEB3vh"
      },
      "execution_count": null,
      "outputs": []
    },
    {
      "cell_type": "markdown",
      "source": [
        "**Sets**"
      ],
      "metadata": {
        "id": "TeG47QeCCT14"
      }
    },
    {
      "cell_type": "code",
      "source": [
        "# Crear sets\n",
        "random_set = {\"Educative\", 1408, 3.142,\n",
        "              (True, False)}\n",
        "print(random_set)\n",
        "print(len(random_set))  # Longitud de set\n",
        "\n",
        "# Añadir elementos\n",
        "empty_set = set()\n",
        "print(empty_set)\n",
        "\n",
        "empty_set.add(1)\n",
        "print(empty_set)\n",
        "\n",
        "empty_set.update([2, 3, 4, 5, 6])\n",
        "print(empty_set)\n",
        "\n",
        "# Eliminar elementos\n",
        "random_set = set({\"Educative\", 1408, 3.142, (True, False)})\n",
        "print(random_set)\n",
        "\n",
        "random_set.discard(1408)\n",
        "print(random_set)\n",
        "\n",
        "random_set.remove((True, False))\n",
        "print(random_set)\n",
        "\n",
        "# Iterar elementos\n",
        "odd_list = [1, 3, 5, 7]\n",
        "unordered_set = {9, 10, 11, 12, 13, 14, 15, 16, 17}\n",
        "\n",
        "print(unordered_set)\n",
        "\n",
        "for num in unordered_set:\n",
        "    if(not num % 2 == 0):\n",
        "        odd_list.append(num)\n",
        "\n",
        "print(odd_list)"
      ],
      "metadata": {
        "colab": {
          "base_uri": "https://localhost:8080/"
        },
        "id": "MfDDeqxcCXby",
        "outputId": "e748e38b-5e6f-42b1-fa95-f40e1daa5d56"
      },
      "execution_count": null,
      "outputs": [
        {
          "output_type": "stream",
          "name": "stdout",
          "text": [
            "{1408, 'Educative', (True, False), 3.142}\n",
            "4\n"
          ]
        }
      ]
    },
    {
      "cell_type": "markdown",
      "source": [
        "**Set theory operations**"
      ],
      "metadata": {
        "id": "_3nf3KBTCyxW"
      }
    },
    {
      "cell_type": "code",
      "source": [
        "# Unión\n",
        "set_A = {1, 2, 3, 4}\n",
        "set_B = {'a', 'b', 'c', 'd'}\n",
        "\n",
        "print(set_A | set_B)\n",
        "print(set_A.union(set_B))\n",
        "print(set_B.union(set_A))\n",
        "\n",
        "# Intersección\n",
        "set_A = {1, 2, 3, 4}\n",
        "set_B = {2, 8, 4, 16}\n",
        "\n",
        "print(set_A & set_B)\n",
        "print(set_A.intersection(set_B))\n",
        "print(set_B.intersection(set_A))\n",
        "\n",
        "# Diferencia\n",
        "set_A = {1, 2, 3, 4}\n",
        "set_B = {2, 8, 4, 16}\n",
        "\n",
        "\n",
        "print(set_A - set_B)\n",
        "print(set_A.difference(set_B))\n",
        "\n",
        "print(set_B - set_A)\n",
        "print(set_B.difference(set_A))\n"
      ],
      "metadata": {
        "id": "y3wTWWjmC252"
      },
      "execution_count": null,
      "outputs": []
    },
    {
      "cell_type": "markdown",
      "source": [
        "**Conversión de estructura de datos**"
      ],
      "metadata": {
        "id": "lmbOqrC5DCuL"
      }
    },
    {
      "cell_type": "code",
      "source": [
        "# Convertir en lista\n",
        "star_wars_tup = (\"Anakin\", \"Darth Vader\", 1000)\n",
        "print(star_wars_tup)\n",
        "star_wars_set = {\"Anakin\", \"Darth Vader\", 1000}\n",
        "print(star_wars_set)\n",
        "star_wars_dict = {1: \"Anakin\", 2: \"Darth Vader\", 3: 1000}\n",
        "print(star_wars_dict)\n",
        "\n",
        "star_wars_list = list(star_wars_tup)  # Convertir desde tupla\n",
        "print(star_wars_list)\n",
        "\n",
        "star_wars_list = list(star_wars_set)  # Convertir desde set\n",
        "print(star_wars_list)\n",
        "\n",
        "star_wars_list = list(star_wars_dict)  # Convertir desde diccionario\n",
        "print(star_wars_list)\n",
        "\n",
        "# Convertir en tupla\n",
        "star_wars_list = [\"Anakin\", \"Darth Vader\", 1000]\n",
        "print(star_wars_list)\n",
        "star_wars_set = {\"Anakin\", \"Darth Vader\", 1000}\n",
        "print(star_wars_set)\n",
        "star_wars_dict = {1: \"Anakin\", 2: \"Darth Vader\", 3: 1000}\n",
        "print(star_wars_dict)\n",
        "\n",
        "star_wars_tup = tuple(star_wars_list)  # Convertir desde lista\n",
        "print(star_wars_tup)\n",
        "\n",
        "star_wars_tup = tuple(star_wars_set)  # Convertir desde set\n",
        "print(star_wars_tup)\n",
        "\n",
        "star_wars_tup = tuple(star_wars_dict)  # Convertir desde diccionario\n",
        "print(star_wars_tup)\n",
        "\n",
        "# Convertir en set\n",
        "star_wars_list = [\"Anakin\", \"Darth Vader\", 1000]\n",
        "print(star_wars_list)\n",
        "star_wars_tup = (\"Anakin\", \"Darth Vader\", 1000)\n",
        "print(star_wars_tup)\n",
        "star_wars_dict = {1: \"Anakin\", 2: \"Darth Vader\", 3: 1000}\n",
        "print(star_wars_dict)\n",
        "\n",
        "star_wars_set = set(star_wars_list)  # Convertir desde lista\n",
        "print(star_wars_set)\n",
        "\n",
        "star_wars_set = set(star_wars_tup)  # Convertir desde tupla\n",
        "print(star_wars_set)\n",
        "\n",
        "star_wars_set = set(star_wars_dict)  # Convertir desde diccionario\n",
        "print(star_wars_set)\n",
        "\n",
        "# Convertir en diccionario\n",
        "star_wars_list = [[1,\"Anakin\"], [2,\"Darth Vader\"], [3, 1000]]\n",
        "print (star_wars_list)\n",
        "star_wars_tup = ((1, \"Anakin\"), (2, \"Darth Vader\"), (3, 1000))\n",
        "print (star_wars_tup)\n",
        "star_wars_set = {(1, \"Anakin\"), (2, \"Darth Vader\"), (3, 1000)}\n",
        "print (star_wars_set)\n",
        "\n",
        "star_wars_dict = dict(star_wars_list) # Convertir desde lista\n",
        "print(star_wars_dict)\n",
        "\n",
        "star_wars_dict = dict(star_wars_tup) # Convertir desde tupla\n",
        "print(star_wars_dict)\n",
        "\n",
        "star_wars_dict = dict(star_wars_set) # Convertir desde set\n",
        "print(star_wars_dict)\n"
      ],
      "metadata": {
        "id": "z0UaPmntDFds"
      },
      "execution_count": null,
      "outputs": []
    },
    {
      "cell_type": "markdown",
      "source": [
        "**From list to tuple**"
      ],
      "metadata": {
        "id": "cTupTtGmEq8v"
      }
    },
    {
      "cell_type": "code",
      "source": [
        "my_list = [34, 82.6, \"Darth Vader\", 17, \"Hannibal\"]\n",
        "\n",
        "my_tuple = (my_list[0], my_list[len(my_list) - 1], len(my_list))\n",
        "print(my_tuple)\n"
      ],
      "metadata": {
        "id": "HwZsmEMcEu1_"
      },
      "execution_count": null,
      "outputs": []
    },
    {
      "cell_type": "markdown",
      "source": [
        "**Kth Maximum Integer in a List**"
      ],
      "metadata": {
        "id": "RbCk3klUEzAY"
      }
    },
    {
      "cell_type": "code",
      "source": [
        "test_list = [40, 35, 82, 14, 22, 66, 53]\n",
        "k = 2\n",
        "\n",
        "test_list.sort()\n",
        "kth_max = test_list[-k]\n",
        "print(kth_max)"
      ],
      "metadata": {
        "id": "zd3-TnXZE2z7"
      },
      "execution_count": null,
      "outputs": []
    },
    {
      "cell_type": "markdown",
      "source": [
        "**Highs and Lows**"
      ],
      "metadata": {
        "id": "6ezfi88qFBHs"
      }
    },
    {
      "cell_type": "code",
      "source": [
        "def count_low_high(num_list):\n",
        "    if (len(num_list)==0):\n",
        "        return None\n",
        "    high_list = list(filter(lambda n: n > 50 or n % 3 == 0, num_list))\n",
        "    low_list = list(filter(lambda n: n <= 50 and not n % 3 == 0, num_list))\n",
        "    return [len(low_list), len(high_list)]\n",
        "\n",
        "\n",
        "num_list = [20, 9, 51, 81, 50, 42, 77]\n",
        "\n",
        "print(count_low_high(num_list))\n"
      ],
      "metadata": {
        "id": "CgLndGmVFFPu"
      },
      "execution_count": null,
      "outputs": []
    },
    {
      "cell_type": "markdown",
      "source": [
        "**Libraries**"
      ],
      "metadata": {
        "id": "EaKmtqkPFJh8"
      }
    },
    {
      "cell_type": "code",
      "source": [
        "# Importar módulos\n",
        "\n",
        "import datetime\n",
        "\n",
        "date_today = datetime.date.today()  # Fecha actual\n",
        "print(date_today)\n",
        "\n",
        "time_today = datetime.datetime.now()\n",
        "print(time_today.strftime(\"%H:%M:%S\"))  # Fecha actual\n",
        "\n",
        "import datetime as dt\n",
        "\n",
        "date_today = dt.date.today()  # Fecha actual\n",
        "print(date_today)\n",
        "\n",
        "time_today = dt.datetime.now()\n",
        "print(time_today.strftime(\"%H:%M:%S\"))  # Fecha actual\n",
        "\n"
      ],
      "metadata": {
        "id": "Y5nfzR4BFOnj"
      },
      "execution_count": null,
      "outputs": []
    },
    {
      "cell_type": "markdown",
      "source": [
        "**Modulos populares**"
      ],
      "metadata": {
        "id": "Ke4FX_gLFa1U"
      }
    },
    {
      "cell_type": "code",
      "source": [
        "import math\n",
        "\n",
        "fact_of_5 = math.factorial(5)  # Factorial de 5\n",
        "print(fact_of_5)\n",
        "\n",
        "gcd = math.gcd(300, 90)  # Denominador común\n",
        "print(gcd)\n",
        "\n",
        "log100 = (math.log(10, 100))  # Logaritmo de 10 en base 100\n",
        "print(log100)\n",
        "\n",
        "import heapq\n",
        "\n",
        "heap = []\n",
        "\n",
        "# Insertar elementos\n",
        "heapq.heappush(heap, 10)\n",
        "heapq.heappush(heap, 70)\n",
        "heapq.heappush(heap, 5)\n",
        "heapq.heappush(heap, 35)\n",
        "heapq.heappush(heap, 50)\n",
        "\n",
        "# Elimina el menor valor\n",
        "minimum = heapq.heappop(heap)\n",
        "print(minimum)\n",
        "\n",
        "import random\n",
        "\n",
        "rand_num = random.random()\n",
        "print(rand_num)\n",
        "\n",
        "rand_num_in_range = random.uniform(30, 50)  # Número aleatorio entre 30 y 50\n",
        "print(rand_num_in_range)\n",
        "\n",
        "str_list = ['a', 'b', 'c', 'd', 'e']\n",
        "random.shuffle(str_list)\n",
        "print(str_list)\n",
        "\n"
      ],
      "metadata": {
        "id": "ibPxECCZFdxM"
      },
      "execution_count": null,
      "outputs": []
    },
    {
      "cell_type": "code",
      "source": [
        "my_dict = dict()\n",
        "for i in range (3):\n",
        "  for j in range(2):\n",
        "    my_dict[i] = j\n",
        "print(my_dict)"
      ],
      "metadata": {
        "colab": {
          "base_uri": "https://localhost:8080/"
        },
        "id": "3yn2z_b5GhVd",
        "outputId": "a4b1b564-e91e-4617-8900-59b35c10d9f6"
      },
      "execution_count": null,
      "outputs": [
        {
          "output_type": "stream",
          "name": "stdout",
          "text": [
            "{0: 1, 1: 1, 2: 1}\n"
          ]
        }
      ]
    }
  ]
}